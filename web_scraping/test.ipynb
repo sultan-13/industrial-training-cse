{
 "cells": [
  {
   "cell_type": "code",
   "execution_count": 1,
   "metadata": {},
   "outputs": [],
   "source": [
    "from requests_html import HTMLSession\n",
    "\n",
    "url = \"https://www.prothomalo.com/bangladesh/k4fpzemipc\"\n",
    "\n",
    "session = HTMLSession()\n",
    "response = session.get(url)\n",
    "# title = response.html.find('h1', first=True).text\n",
    "# links = response.html.find('a')\n",
    "# for link in links:\n",
    "    # print(link)\n",
    "    # print(link.text, link.attrs['href'])\n",
    "\n",
    "\n",
    "\n"
   ]
  },
  {
   "cell_type": "code",
   "execution_count": 2,
   "metadata": {},
   "outputs": [
    {
     "data": {
      "text/plain": [
       "'নিজস্ব প্রতিবেদক'"
      ]
     },
     "execution_count": 2,
     "metadata": {},
     "output_type": "execute_result"
    }
   ],
   "source": [
    "response.html.find('.contributor-name', first=True).text"
   ]
  },
  {
   "cell_type": "code",
   "execution_count": 3,
   "metadata": {},
   "outputs": [
    {
     "data": {
      "text/plain": [
       "'https://www.prothomalo.com/bangladesh'"
      ]
     },
     "execution_count": 3,
     "metadata": {},
     "output_type": "execute_result"
    }
   ],
   "source": [
    "category_elem = response.html.find('div.print-entity-section-wrapper > a', first=True)\n",
    "category_elem.attrs['href']"
   ]
  },
  {
   "cell_type": "code",
   "execution_count": null,
   "metadata": {},
   "outputs": [],
   "source": []
  },
  {
   "cell_type": "code",
   "execution_count": null,
   "metadata": {},
   "outputs": [],
   "source": []
  },
  {
   "cell_type": "code",
   "execution_count": 4,
   "metadata": {},
   "outputs": [
    {
     "data": {
      "text/plain": [
       "('তুরস্ক নৌবাহিনীর যুদ্ধজাহাজ চট্টগ্রাম বন্দরে',\n",
       " 'বাংলাদেশ',\n",
       " '2024-05-07T21:50:08+06:00',\n",
       " 'নিজস্ব প্রতিবেদক',\n",
       " 'তিন দিনের শুভেচ্ছা সফরে বাংলাদেশে এসে পৌঁছেছে তুরস্ক নৌবাহিনীর জাহাজ ‘টিসিজি কিনালিয়াদা’। আজ মঙ্গলবার জাহাজটি চট্টগ্রাম বন্দরের জেটিতে ভেড়ে।\\nকমান্ডার চট্টগ্রাম নৌ অঞ্চলের চিফ স্টাফ অফিসার ক্যাপ্টেন এম আসাদুজ্জামান জাহাজটিকে স্বাগত জানান। আন্তঃবাহিনী জনসংযোগ পরিদপ্তর (আইএসপিআর) এক সংবাদ বিজ্ঞপ্তিতে এ তথ্য জানায়।\\nআইএসপিআর জানিয়েছে, জাহাজটি স্বাগত জানাতে নৌবাহিনীর সুসজ্জিত বাদক দল ঐতিহ্যবাহী রীতিতে ব্যান্ড পরিবেশন করে। এ সময় অন্যদের মধ্যে বাংলাদেশে নিযুক্ত তুরস্কের হাইকমিশনের প্রতিনিধিসহ নৌবাহিনীর পদস্থ কর্মকর্তা ও নাবিকেরা উপস্থিত ছিলেন।\\nসংবাদ বিজ্ঞপ্তিতে আরও জানানো হয়েছে, সফরকালে জাহাজটির অধিনায়ক এবং বাংলাদেশে নিযুক্ত তুরস্কের হাইকমিশনের প্রতিনিধিরা কমান্ডার চট্টগ্রাম নৌ অঞ্চল, কমান্ডার বিএন ফ্লিট, চট্টগ্রাম বন্দরের চেয়ারম্যানসহ অন্যান্য ঊর্ধ্বতন সামরিক ও বেসামরিক কর্মকর্তাদের সঙ্গে সৌজন্য সাক্ষাৎ করবেন।\\nচট্টগ্রাম নৌ অঞ্চলে অবস্থানকালীন সফরকারী জাহাজের কর্মকর্তা ও নাবিকেরা চট্টগ্রামে অবস্থিত নৌবাহিনীর ঘাঁটি, স্থাপনা ও অন্যান্য দর্শনীয় স্থানসমূহ পরিদর্শন করবেন। শুভেচ্ছা সফর শেষে জাহাজটি ৯ মে বাংলাদেশ ত্যাগ করবে।')"
      ]
     },
     "execution_count": 4,
     "metadata": {},
     "output_type": "execute_result"
    }
   ],
   "source": [
    "title = response.html.find('h1', first=True).text\n",
    "category_element = response.html.find('div.print-entity-section-wrapper')\n",
    "category = category_element[0].find('a', first=True).text\n",
    "\n",
    "datetime_element = response.html.find('time', first=True)\n",
    "news_datetime = datetime_element.attrs['datetime']\n",
    "reporter = response.html.find('.contributor-name', first=True).text\n",
    "\n",
    "news_body_element = response.html.find('p')\n",
    "news_body = \"\\n\".join([p.text for p in news_body_element])\n",
    "title, category, news_datetime, reporter, news_body"
   ]
  },
  {
   "cell_type": "code",
   "execution_count": 5,
   "metadata": {},
   "outputs": [
    {
     "data": {
      "text/plain": [
       "[]"
      ]
     },
     "execution_count": 5,
     "metadata": {},
     "output_type": "execute_result"
    }
   ],
   "source": [
    "response.html.find('img')"
   ]
  },
  {
   "cell_type": "code",
   "execution_count": 6,
   "metadata": {},
   "outputs": [],
   "source": [
    "images_element = response.html.find('img')\n",
    "images_element, len(images_element)\n",
    "for images in images_element:\n",
    "    image_url = images.attrs['src']\n",
    "    print(image_url)"
   ]
  },
  {
   "cell_type": "code",
   "execution_count": 7,
   "metadata": {},
   "outputs": [
    {
     "data": {
      "text/plain": [
       "<Response [200]>"
      ]
     },
     "execution_count": 7,
     "metadata": {},
     "output_type": "execute_result"
    }
   ],
   "source": [
    "response = session.get(\"https://books.toscrape.com/\")\n",
    "response"
   ]
  },
  {
   "cell_type": "code",
   "execution_count": null,
   "metadata": {},
   "outputs": [],
   "source": [
    "response.html.find('img')"
   ]
  },
  {
   "cell_type": "code",
   "execution_count": null,
   "metadata": {},
   "outputs": [],
   "source": []
  },
  {
   "cell_type": "code",
   "execution_count": null,
   "metadata": {},
   "outputs": [],
   "source": [
    "title"
   ]
  },
  {
   "cell_type": "code",
   "execution_count": null,
   "metadata": {},
   "outputs": [],
   "source": [
    "news_body = []\n",
    "all_p = response.html.find('p')\n",
    "for p in all_p:\n",
    "    # print(p.text)\n",
    "    news_body.append(p.text)\n",
    "news_body = '\\n'.join(news_body)\n",
    "print(news_body)"
   ]
  },
  {
   "cell_type": "code",
   "execution_count": null,
   "metadata": {},
   "outputs": [],
   "source": [
    "reporter = response.html.find('.contributor-name', first=True).text\n",
    "reporter_location = response.html.find('.author-location', first=True).text\n",
    "datetime = response.html.find('time', first=True).text\n",
    "category = response.html.find('.print-entity-section-wrapper', first=True).text\n",
    "reporter, reporter_location, datetime, category"
   ]
  },
  {
   "cell_type": "code",
   "execution_count": null,
   "metadata": {},
   "outputs": [],
   "source": [
    "images = response.html.find('#f91ea423-844b-4374-b73b-6abdeac72a51 > div.storyCard.eyOoS > div:nth-child(2) > div > div:nth-child(1) > div > figure > picture > img')"
   ]
  },
  {
   "cell_type": "code",
   "execution_count": null,
   "metadata": {},
   "outputs": [],
   "source": []
  }
 ],
 "metadata": {
  "kernelspec": {
   "display_name": "base",
   "language": "python",
   "name": "python3"
  },
  "language_info": {
   "codemirror_mode": {
    "name": "ipython",
    "version": 3
   },
   "file_extension": ".py",
   "mimetype": "text/x-python",
   "name": "python",
   "nbconvert_exporter": "python",
   "pygments_lexer": "ipython3",
   "version": "3.10.8"
  }
 },
 "nbformat": 4,
 "nbformat_minor": 2
}
